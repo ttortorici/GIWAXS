{
 "cells": [
  {
   "cell_type": "code",
   "execution_count": 5,
   "metadata": {},
   "outputs": [
    {
     "name": "stdout",
     "output_type": "stream",
     "text": [
      "<class 'str'>\n",
      "# Nota: C-Order, 1 refers to the Y axis, 2 to the X axis\n",
      "# Calibration done at Fri Feb  9 18:16:16 2024\n",
      "poni_version: 2.1\n",
      "Detector: Detector\n",
      "Detector_config: {\"pixel1\": 7.5e-05, \"pixel2\": 7.5e-05, \"max_shape\": [1102, 3070], \"orientation\": 1}\n",
      "Distance: 0.13902343368236345\n",
      "Poni1: 0.012814873027579674\n",
      "Poni2: 0.11840187118949741\n",
      "Rot1: 0.0\n",
      "Rot2: 0.0\n",
      "Rot3: 0.0\n",
      "Wavelength: 1.54185e-10\n",
      "\n",
      "'# Nota: C-Order, 1 refers to the Y axis, 2 to the X axis\\n# Calibration done at Fri Feb  9 18:16:16 2024\\nponi_version: 2.1\\nDetector: Detector\\nDetector_config: {\"pixel1\": 7.5e-05, \"pixel2\": 7.5e-05, \"max_shape\": [1102, 3070], \"orientation\": 1}\\nDistance: 0.13902343368236345\\nPoni1: 0.012814873027579674\\nPoni2: 0.11840187118949741\\nRot1: 0.0\\nRot2: 0.0\\nRot3: 0.0\\nWavelength: 1.54185e-10\\n'\n"
     ]
    }
   ],
   "source": [
    "from pathlib import Path\n",
    "\n",
    "directory = Path(\"C:\\\\Users\\\\Teddy\\\\OneDrive - UCB-O365\\\\Rogerslab3\\\\Teddy\\\\TPP Films\\\\BTB-TPP\\\\2024 Film Growth\\\\Film 1\\\\GIWAXS TT5-06\")\n",
    "\n",
    "with open(directory / 'cal.poni', 'r') as f:\n",
    "    x = f.read()\n",
    "print(type(x))\n",
    "print(x)\n",
    "print(repr(x))\n",
    "    "
   ]
  },
  {
   "cell_type": "code",
   "execution_count": null,
   "metadata": {},
   "outputs": [],
   "source": []
  }
 ],
 "metadata": {
  "kernelspec": {
   "display_name": "xrd",
   "language": "python",
   "name": "python3"
  },
  "language_info": {
   "codemirror_mode": {
    "name": "ipython",
    "version": 3
   },
   "file_extension": ".py",
   "mimetype": "text/x-python",
   "name": "python",
   "nbconvert_exporter": "python",
   "pygments_lexer": "ipython3",
   "version": "3.11.7"
  }
 },
 "nbformat": 4,
 "nbformat_minor": 2
}
