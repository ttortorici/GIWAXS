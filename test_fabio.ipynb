{
 "cells": [
  {
   "cell_type": "code",
   "execution_count": 5,
   "metadata": {},
   "outputs": [],
   "source": [
    "from pathlib import Path\n",
    "import fabio\n",
    "\n",
    "directory = Path(\"C:\\\\Users\\\\Teddy\\\\OneDrive - UCB-O365\\\\Rogerslab3\\\\Teddy\\\\TPP Films\\\\BTB-TPP\\\\2024 Film Growth\\\\Film 2\\\\XRD\\\\TT5-09\\\\Thick sio2\\\\rotation 2\\\\non-grazing\")\n"
   ]
  },
  {
   "cell_type": "code",
   "execution_count": 8,
   "metadata": {},
   "outputs": [
    {
     "name": "stdout",
     "output_type": "stream",
     "text": [
      "C:\\Users\\Teddy\\OneDrive - UCB-O365\\Rogerslab3\\Teddy\\TPP Films\\BTB-TPP\\2024 Film Growth\\Film 2\\XRD\\TT5-09\\Thick sio2\\rotation 2\\non-grazing\\1_1_1\n",
      "C:\\Users\\Teddy\\OneDrive - UCB-O365\\Rogerslab3\\Teddy\\TPP Films\\BTB-TPP\\2024 Film Growth\\Film 2\\XRD\\TT5-09\\Thick sio2\\rotation 2\\non-grazing\n"
     ]
    }
   ],
   "source": [
    "print(list(directory.glob(\"*_*_*\")))\n",
    "print(directory)"
   ]
  },
  {
   "cell_type": "code",
   "execution_count": 8,
   "metadata": {},
   "outputs": [
    {
     "name": "stdout",
     "output_type": "stream",
     "text": [
      "['1_1_1', '1_1_2', '1_2_1', '1_2_2', '1_3_1', '1_3_2']\n"
     ]
    }
   ],
   "source": [
    "def get_raw_files(directory):\n",
    "    files = []\n",
    "    for file in directory.glob(\"*_*_*\"):\n",
    "        try:\n",
    "            [int(num) for num in file.name.split(\"_\")]\n",
    "            files.append(file.name)\n",
    "        except ValueError:\n",
    "            pass\n",
    "    return files\n",
    "\n",
    "files = get_raw_files(directory)\n",
    "print(files)"
   ]
  },
  {
   "cell_type": "code",
   "execution_count": 16,
   "metadata": {},
   "outputs": [
    {
     "name": "stdout",
     "output_type": "stream",
     "text": [
      "<class 'pathlib.WindowsPath'>\n"
     ]
    }
   ],
   "source": [
    "tif = fabio.open(directory / files[0])\n",
    "print(type(directory / files[0]))"
   ]
  },
  {
   "cell_type": "code",
   "execution_count": 18,
   "metadata": {},
   "outputs": [
    {
     "name": "stdout",
     "output_type": "stream",
     "text": [
      "[[0 0 0 ... 2 1 2]\n",
      " [0 0 0 ... 2 2 1]\n",
      " [0 0 0 ... 1 1 2]\n",
      " ...\n",
      " [0 1 0 ... 3 1 0]\n",
      " [0 0 0 ... 2 2 1]\n",
      " [1 0 0 ... 1 2 1]]\n"
     ]
    }
   ],
   "source": [
    "print(tif.data)"
   ]
  },
  {
   "cell_type": "code",
   "execution_count": 1,
   "metadata": {},
   "outputs": [],
   "source": [
    "import yaml"
   ]
  },
  {
   "cell_type": "code",
   "execution_count": 2,
   "metadata": {},
   "outputs": [],
   "source": [
    "x = {\"incident\": .25, \"tilt\": .15}\n",
    "with open(\"test.yml\", 'w') as file:\n",
    "    yaml.dump(x, file)"
   ]
  },
  {
   "cell_type": "code",
   "execution_count": 3,
   "metadata": {},
   "outputs": [],
   "source": [
    "with open(\"test.yml\", 'w') as file:\n",
    "    yaml.dump({\"h\": 1}, file)"
   ]
  },
  {
   "cell_type": "code",
   "execution_count": null,
   "metadata": {},
   "outputs": [],
   "source": []
  }
 ],
 "metadata": {
  "kernelspec": {
   "display_name": "xrd",
   "language": "python",
   "name": "python3"
  },
  "language_info": {
   "codemirror_mode": {
    "name": "ipython",
    "version": 3
   },
   "file_extension": ".py",
   "mimetype": "text/x-python",
   "name": "python",
   "nbconvert_exporter": "python",
   "pygments_lexer": "ipython3",
   "version": "3.11.7"
  }
 },
 "nbformat": 4,
 "nbformat_minor": 2
}
