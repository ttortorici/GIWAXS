{
 "cells": [
  {
   "cell_type": "markdown",
   "id": "f9d45bc2-c468-47de-b443-5d377bbde51b",
   "metadata": {},
   "source": [
    "# CREATE CALIBRATION"
   ]
  },
  {
   "cell_type": "markdown",
   "id": "17f0fff8-3cf5-4c10-bd81-3d65a7d48240",
   "metadata": {},
   "source": [
    "##### This first cell initializes the code. Under \"\"\"Inputs\"\"\" you can adjust parameters if needed."
   ]
  },
  {
   "cell_type": "code",
   "execution_count": 1,
   "id": "b63acfe2-969d-455b-838d-e5bbd2fa674a",
   "metadata": {},
   "outputs": [
    {
     "name": "stdout",
     "output_type": "stream",
     "text": [
      "done\n"
     ]
    }
   ],
   "source": [
    "import os\n",
    "import numpy as np\n",
    "import tkinter as tk\n",
    "from tkinter import filedialog\n",
    "import image_handler as tif\n",
    "\n",
    "\n",
    "if os.name == 'nt':\n",
    "    win = True\n",
    "else:\n",
    "    win = False\n",
    "\n",
    "\n",
    "default_data_path = f'{os.getcwd()}{os.sep}raw_data'\n",
    "# Can put the filename here or run the next cell to override it.\n",
    "cal_file = f'{default_data_path}{os.sep}SiBe_on_GIWAXmount_CenteredInBeam_flip.tif'\n",
    "\n",
    "\n",
    "\"\"\"Inputs\"\"\"\n",
    "detector = '\"Eiger Stitch\"'              #  Custom\n",
    "calibrant = 'AgBh'                       #  Silver Behenate\n",
    "wavelength = 1.54185                     #  angstroms\n",
    "# mask_filename = None\n",
    "mask_filename = 'beamstop_3stitch.edf'   #  File containing mask information\n",
    "\"\"\"End Inputs\"\"\"\n",
    "\n",
    "\n",
    "%gui qt\n",
    "\n",
    "print('done')"
   ]
  },
  {
   "cell_type": "markdown",
   "id": "185de49b-2cb2-4e65-930e-1b8f80880b7f",
   "metadata": {},
   "source": [
    "### Find calibration image and flip it if needed"
   ]
  },
  {
   "cell_type": "markdown",
   "id": "50b3f4ee-dabe-4694-83c7-fe223e22fdf3",
   "metadata": {},
   "source": [
    "##### This cell is optional to find the tiff that you will be calibrating from. It could just be defined in the above cell manually."
   ]
  },
  {
   "cell_type": "code",
   "execution_count": 2,
   "id": "377832e8-5788-4c6c-97c7-acd50dab0467",
   "metadata": {},
   "outputs": [
    {
     "name": "stdout",
     "output_type": "stream",
     "text": [
      "Using: /home/etortoric/Documents/GitHub/GIWAXS/raw_data/TT5mm-01-benzeneTPP_60min_flip.tif\n",
      "    as calibration image\n",
      "The calibration image is 1102 x 3070 pixels\n"
     ]
    }
   ],
   "source": [
    "\"\"\"Select file using GUI prompt (can uncomment filename above and skip)\"\"\"\n",
    "root = tk.Tk()\n",
    "if not win:\n",
    "    root.withdraw()\n",
    "    root.update()\n",
    "cal_file = filedialog.askopenfilename(initialdir=default_data_path, title='Select Files to Flip', filetypes=(('TIFFs', '*.tif',), ('all', '*.*')))\n",
    "root.destroy()\n",
    "print(f'Using: {cal_file}\\n    as calibration image')\n",
    "\n",
    "\"\"\"If in the unflipped folder, we'll need to flip it\"\"\"\n",
    "if f'{os.sep}unflipped{os.sep}' in cal_file.replace('/', os.sep):\n",
    "    print('Flipping the image for pyFAI-calib2')\n",
    "    # takes tif at 'filename' and rotates 180degrees and then saves in the folder 'save_path'\n",
    "    # returns new filename of the flipped image\n",
    "    cal_file = tif.flip(filename=cal_file, save_path=default_data_path)\n",
    "    print(f'Flipped image location is\\n    {cal_file}')\n",
    "    \n",
    "r_cal, c_cal = tif.size(cal_file)\n",
    "print(f'The calibration image is {r_cal} x {c_cal} pixels')\n",
    "# tif.view_tif(cal_file)"
   ]
  },
  {
   "cell_type": "markdown",
   "id": "dd8c9686-c460-497e-953b-6c3e9157bbdc",
   "metadata": {},
   "source": [
    "### Run calibration GUI"
   ]
  },
  {
   "cell_type": "markdown",
   "id": "bd07ef02-91b7-4077-b8aa-7c31b6e2df51",
   "metadata": {},
   "source": [
    "##### Run this cell to open the PyFAI calibration GUI with above information preloaded in."
   ]
  },
  {
   "cell_type": "code",
   "execution_count": 3,
   "id": "2cc4746b-52b2-45f0-98bf-de794833abff",
   "metadata": {},
   "outputs": [
    {
     "name": "stdout",
     "output_type": "stream",
     "text": [
      "done\n"
     ]
    }
   ],
   "source": [
    "mask = f'{os.getcwd()}{os.sep}masks{os.sep}{mask_filename}'\n",
    "string_to_send_system = f'pyFAI-calib2 {cal_file} -D {detector} -c {calibrant} -w {wavelength}'\n",
    "if mask_filename:\n",
    "    string_to_send_system += f' -m {mask}'\n",
    "if not win:\n",
    "    string_to_send_system += ' >/dev/null 2>&1'\n",
    "os.system(string_to_send_system)\n",
    "print('done')"
   ]
  },
  {
   "cell_type": "markdown",
   "id": "268cdd08-e2e6-49bc-87da-c88542d6bc75",
   "metadata": {},
   "source": [
    "##### Now the poni file is generated and GIWAXS_analyzer can be used."
   ]
  }
 ],
 "metadata": {
  "kernelspec": {
   "display_name": "Python 3 (ipykernel)",
   "language": "python",
   "name": "python3"
  },
  "language_info": {
   "codemirror_mode": {
    "name": "ipython",
    "version": 3
   },
   "file_extension": ".py",
   "mimetype": "text/x-python",
   "name": "python",
   "nbconvert_exporter": "python",
   "pygments_lexer": "ipython3",
   "version": "3.9.7"
  }
 },
 "nbformat": 4,
 "nbformat_minor": 5
}
