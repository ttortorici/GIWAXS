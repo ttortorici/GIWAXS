{
 "cells": [
  {
   "cell_type": "markdown",
   "id": "f9d45bc2-c468-47de-b443-5d377bbde51b",
   "metadata": {},
   "source": [
    "# Analyze Data"
   ]
  },
  {
   "cell_type": "code",
   "execution_count": 1,
   "id": "b63acfe2-969d-455b-838d-e5bbd2fa674a",
   "metadata": {},
   "outputs": [
    {
     "name": "stderr",
     "output_type": "stream",
     "text": [
      "WARNING:silx.opencl.common:The module pyOpenCL has been imported but can't be used here\n"
     ]
    },
    {
     "name": "stdout",
     "output_type": "stream",
     "text": [
      "done\n"
     ]
    }
   ],
   "source": [
    "import os\n",
    "import numpy as np\n",
    "import pygix\n",
    "import fabio\n",
    "import tkinter as tk\n",
    "from tkinter import filedialog\n",
    "import image_handler as tif\n",
    "from dezinger import remove_zingers_from_file\n",
    "from GIWAXS_analyzer import sector_cut\n",
    "import plotter as plt\n",
    "import pyqtgraph as pg\n",
    "import sys\n",
    "from PIL import Image\n",
    "\n",
    "\n",
    "if os.name == 'nt':\n",
    "    win = True\n",
    "else:\n",
    "    win = False\n",
    "\n",
    "\n",
    "default_data_path = os.path.join(os.getcwd(), 'raw_data')\n",
    "poni = os.path.join(os.getcwd(), 'calibration', 'beamcenter.poni')\n",
    "raw_data = os.path.join(default_data_path, 'TT5mm-01-benzeneTPP_60min_flip.tif')\n",
    "\n",
    "\n",
    "\"\"\"Inputs\"\"\"\n",
    "sample_orientation = 1       # 1: horizontal up; 2: vertical right; 3: horizontal down; 4: vertical left\n",
    "incident_angle = 0.12        # angle of incidence of the sample material (usually 0.12 for organics)\n",
    "tilt_angle = 0              # don't know what this is for to be honest\n",
    "\n",
    "\"\"\"End Inputs\"\"\"\n",
    "\n",
    "\n",
    "%gui qt\n",
    "print('done')"
   ]
  },
  {
   "cell_type": "markdown",
   "id": "185de49b-2cb2-4e65-930e-1b8f80880b7f",
   "metadata": {},
   "source": [
    "### Find image with GUI and flip it if needed"
   ]
  },
  {
   "cell_type": "markdown",
   "id": "40ba92be-05a6-4456-943d-e7db7f8002fb",
   "metadata": {},
   "source": [
    "##### Can run this to use GUI to find file, otherwise, can type it in as 'raw_data' above. If the file is flipped, it will be saved as a new file with the '_flip' appended to it"
   ]
  },
  {
   "cell_type": "code",
   "execution_count": 3,
   "id": "377832e8-5788-4c6c-97c7-acd50dab0467",
   "metadata": {},
   "outputs": [
    {
     "name": "stdout",
     "output_type": "stream",
     "text": [
      "Using: /home/etortoric/Documents/GitHub/GIWAXS/raw_data/TT5mm-01-benzeneTPP_60min_flip.tif\n",
      "    as calibration image\n",
      "Flipped image location is\n",
      "    /home/etortoric/Documents/GitHub/GIWAXS/raw_data/TT5mm-01-benzeneTPP_60min_flip.tif\n",
      "The calibration image is 1102 x 3070 pixels\n"
     ]
    }
   ],
   "source": [
    "root = tk.Tk()\n",
    "if not win:\n",
    "    root.withdraw()\n",
    "    root.update()\n",
    "raw_data = filedialog.askopenfilename(initialdir=default_data_path, title='Select TIFF for analysis',\n",
    "                                      filetypes=(('TIFFs', '*.tif',), ('all', '*.*')))\n",
    "root.destroy()\n",
    "print(f'Using: {raw_data}\\n    as calibration image')\n",
    "\n",
    "\"\"\"If in the unflipped folder, we'll need to flip it\"\"\"\n",
    "if f'{os.sep}unflipped{os.sep}' in raw_data.replace('/', os.sep):\n",
    "    print('Flipping the image for pyFAI-calib2')\n",
    "    # takes tif at 'raw_data' and rotates 180degrees and then saves in the folder 'save_path'\n",
    "    # returns new raw_data of the flipped image\n",
    "    raw_data = tif.flip(filename=raw_data, save_path=default_data_path)\n",
    "\n",
    "print(f'Flipped image location is\\n    {raw_data}')\n",
    "r, c = tif.size(raw_data)\n",
    "print(f'The calibration image is {r} x {c} pixels')\n",
    "# tif.view_tif(raw_data)\n"
   ]
  },
  {
   "cell_type": "markdown",
   "id": "9254370d-2caf-4389-8f3d-ca8ffa438c19",
   "metadata": {},
   "source": [
    "### Find Poni file (for calibration) with GUI if needed"
   ]
  },
  {
   "cell_type": "markdown",
   "id": "71857498-485c-4d5a-9ddf-11d1b0e1e868",
   "metadata": {},
   "source": [
    "##### Otherwise you can just define it manually in the first cell."
   ]
  },
  {
   "cell_type": "code",
   "execution_count": 4,
   "id": "0488270d-9259-4106-b793-d6ea45e43687",
   "metadata": {},
   "outputs": [
    {
     "name": "stdout",
     "output_type": "stream",
     "text": [
      "Using: /home/etortoric/Documents/GitHub/GIWAXS/calibration/agbh3.poni\n",
      "    to calibrate analysis\n"
     ]
    }
   ],
   "source": [
    "\"\"\"Select file using GUI prompt (can uncomment poni above and skip)\"\"\"\n",
    "root = tk.Tk()\n",
    "if not win:\n",
    "    root.withdraw()\n",
    "    root.update()\n",
    "poni = filedialog.askopenfilename(initialdir=os.path.join(os.getcwd(), 'calibration'), title='Select poni file',\n",
    "                                  filetypes=(('PONI', '*.poni',), ('all', '*.*')))\n",
    "root.destroy()\n",
    "print(f'Using: {poni}\\n    to calibrate analysis')"
   ]
  },
  {
   "cell_type": "markdown",
   "id": "5036a047-2151-448e-8b1f-91553b75d48f",
   "metadata": {},
   "source": [
    "### Dezingering"
   ]
  },
  {
   "cell_type": "markdown",
   "id": "c4b1c2c1-346b-4689-a1b8-646d147bdc5f",
   "metadata": {},
   "source": [
    "##### Optional step to remove zingers from data file. Will make a new file with '_dz' appended to the name"
   ]
  },
  {
   "cell_type": "code",
   "execution_count": 2,
   "id": "70048ca0-d145-4ba4-8a31-d7ab012fdc6b",
   "metadata": {},
   "outputs": [
    {
     "name": "stdout",
     "output_type": "stream",
     "text": [
      "\n",
      "Dezingering attempt 1\n",
      "average value of data is 11.156854874465733, but 10.166547053920322 after smoothing.\n",
      "3383140 pixels in data\n",
      "Found 34719 zingers\n",
      "\n",
      "Dezingering attempt 2\n",
      "average value of data is 11.111272072689868, but 10.125769255780133 after smoothing.\n",
      "3383140 pixels in data\n",
      "Found 26670 zingers\n",
      "done\n"
     ]
    }
   ],
   "source": [
    "dezinger_steps = 2\n",
    "dezing_cutoff = 1.6\n",
    "dezing_smooth = 3\n",
    "show = True\n",
    "\n",
    "if dezinger_steps:\n",
    "    # if show:\n",
    "    #     app = pg.QtGui.QApplication(sys.argv)\n",
    "    raw_data = remove_zingers_from_file(raw_data, dezing_cutoff, dezing_smooth, dezinger_steps, show=show)\n",
    "    # sys.exit(app.exec_())\n",
    "    # app.exec_()\n",
    "print('done')"
   ]
  },
  {
   "cell_type": "markdown",
   "id": "d3240f70-954d-4c94-9229-124adbe05d21",
   "metadata": {},
   "source": [
    "### Load calibration and data with pygix"
   ]
  },
  {
   "cell_type": "code",
   "execution_count": 14,
   "id": "c8b3a64e-0752-4751-bfec-7fab15ffe1fc",
   "metadata": {},
   "outputs": [
    {
     "name": "stdout",
     "output_type": "stream",
     "text": [
      "Calibrating with:\n",
      "    /home/etortoric/Documents/GitHub/GIWAXS/calibration/beamcenter.poni\n",
      "\n",
      "With a horizontal sample; positive q_z: bottom-to-top,\n",
      "and an incident angle of 0.12°\n",
      "\n",
      "X-Ray wavelength is 1.54185 A\n",
      "\n",
      "Detector-sample distance is 163.77355935888423 mm\n",
      "\n",
      "Detector pixel size is 75.0 x 75.0 μm\n",
      "\n",
      "Beam center is (1572.2167481699282, 279.9420580059935) pixels\n",
      "\n",
      "Point of normal incidence is (20.99565435044951, 117.9162561127446) mm\n",
      "\n",
      "Tilt angle is 0°\n",
      "\n",
      "\n",
      "Loading data from:\n",
      "    /home/etortoric/Documents/GitHub/GIWAXS/raw_data/TT5mm-01-benzeneTPP_60min_flip_dz2.tif\n"
     ]
    }
   ],
   "source": [
    "cal = pygix.Transform()\n",
    "cal.load(poni)\n",
    "\n",
    "print(f'Calibrating with:\\n    {poni}')\n",
    "\n",
    "cal.sample_orientation = sample_orientation\n",
    "cal.incident_angle = incident_angle\n",
    "cal.tilt_angle = tilt_angle\n",
    "\n",
    "if sample_orientation == 1:\n",
    "    orientation_str = 'horizontal'\n",
    "    direction_str = 'bottom-to-top'\n",
    "elif sample_orientation == 2:\n",
    "    orientation_str = 'vertical'\n",
    "    direction_str = 'left-to-right'\n",
    "elif sample_orientation == 3:\n",
    "    orientation_str = 'horizontal'\n",
    "    direction_str = 'top-to-bottom'\n",
    "elif sample_orientation == 4:\n",
    "    orientation_str = 'vertical'\n",
    "    direction_str = 'right-to-left'\n",
    "print(f'\\nWith a {orientation_str} sample; positive q_z: {direction_str},')\n",
    "print(f'and an incident angle of {incident_angle}\\u00B0')\n",
    "\n",
    "print(f'\\nX-Ray wavelength is {cal._wavelength * 1e10} A')\n",
    "print(f'\\nDetector-sample distance is {cal._dist * 1e3} mm')\n",
    "print(f'\\nDetector pixel size is {cal.detector._pixel1 * 1e6} x {cal.detector._pixel2 * 1e6} \\u03BCm')\n",
    "print(f'\\nBeam center is ({cal._poni2 / cal.detector._pixel1}, {cal._poni1 / cal.detector._pixel2}) pixels')\n",
    "print(f'\\nPoint of normal incidence is ({cal._poni1 * 1e3}, {cal._poni2 * 1e3}) mm')\n",
    "print(f'\\nTilt angle is {cal._tilt_angle}\\u00B0\\n')\n",
    "\n",
    "print(f'\\nLoading data from:\\n    {raw_data}')\n",
    "data = fabio.open(raw_data).data\n",
    "filename = raw_data.replace('/', os.sep).split(os.sep)[-1].strip('.tif')     # just the part of the string containing the name of the file\n",
    "\n",
    "data_processed, qxy, qz = cal.transform_reciprocal(data, correctSolidAngle=True, method=\"bbox\")\n",
    "data_processed = np.fliplr(data_processed)\n",
    "Image.fromarray(data_processed).save(os.path.join(os.getcwd(), 'processed_data', filename + '.tif'))\n",
    "tif.view(os.path.join(os.getcwd(), 'processed_data', filename + '.tif'))"
   ]
  },
  {
   "cell_type": "markdown",
   "id": "689c1c54-8366-4126-870f-2e63901fd7bc",
   "metadata": {},
   "source": [
    "### Plot In Plane and Out of Plane line cuts"
   ]
  },
  {
   "cell_type": "code",
   "execution_count": null,
   "id": "251b1855-1061-4141-af8d-159941adb3b7",
   "metadata": {},
   "outputs": [
    {
     "name": "stdout",
     "output_type": "stream",
     "text": [
      "done\n"
     ]
    }
   ],
   "source": [
    "resolution = 1000  # points\n",
    "radial_range = (0, 2.5)\n",
    "\n",
    "q, i_ip = sector_cut((cal, data),                # tuple containing pygix calibratoin and numpy array representing tif image\n",
    "                     resolution=resolution,      # how many points to use in 1d array output\n",
    "                     chi_center=78,              # azimuthal center in degrees (0 points up and positive is clockwise)\n",
    "                     chi_width=10,               # total angle to integrate centered at chi_pos\n",
    "                     radial_range=radial_range)  # how far to look in the q direction\n",
    "                     \n",
    "\n",
    "_, i_oop = sector_cut((cal, data), resolution=resolution, chi_center=0, chi_width=30, radial_range=radial_range)\n",
    "\n",
    "plt.show_plot2(x=q, y1=i_ip, y2=i_oop, title='In Plane and Out of Plane', y_labels=('In Plane', 'Out of Plane'),\n",
    "               labels=('q', 'Intensity'), units=('a_inv', 'counts'), colors=('g', 'y'), fontsize=12)\n",
    "# plot = plt.Plot4('In Plane and Out of Plane', fontsize=12, color='w')\n",
    "# plt.plot(x=q, y=i_ip, title='In Plane', labels=('q', 'Intensity'), units=('a_inv', 'counts'))\n",
    "# p1.plot(2, x=q, y=i_oop, title='Out of Plane', labels=('q', 'Intensity'), units=('a_inv', 'counts'))\n",
    "# pg.plot(3, x=q, y=np.log10(i_ip), title='Log In Plane', labels=('q', 'Log(Intensity)'), units=('a_inv', ''))\n",
    "# pg.plot(4, x=q, y=np.log10(i_oop), title='Log Out of Plane', labels=('q', 'Log(Intensity)'), units=('a_inv', ''))\n",
    "print('done')"
   ]
  },
  {
   "cell_type": "markdown",
   "id": "f80ac0d7-3c59-4b3d-bdfa-597a0844aed6",
   "metadata": {},
   "source": [
    "### Find Peaks for Pole Figures"
   ]
  },
  {
   "cell_type": "code",
   "execution_count": 12,
   "id": "15d91f13-deb8-4ddf-b46c-7faf10b66d65",
   "metadata": {},
   "outputs": [
    {
     "name": "stdout",
     "output_type": "stream",
     "text": [
      "done\n"
     ]
    }
   ],
   "source": [
    "resolution = 2000  # points\n",
    "radial_range = (.2, 2.5)\n",
    "\n",
    "q_r, i_r = sector_cut((cal, data), resolution = resolution, chi_center=0, chi_width=180, radial_range=radial_range)\n",
    "#q_p, i_p = sector_cut((cal, data_processed), resolution = resolution, chi_center=0, chi_width=180, radial_range=radial_range)\n",
    "# print(repr(q))\n",
    "# print(repr(i))\n",
    "plt.show_plot(x=q_r, y=i_r, title='Peaks Raw', labels=('q', 'Intensity'), units=('a_inv', 'counts'))\n",
    "#plt.show_plot(x=q_p, y=i_p, title='Peaks Processed', labels=('q', 'Intensity'), units=('a_inv', 'counts'))\n",
    "print('done')"
   ]
  },
  {
   "cell_type": "code",
   "execution_count": 5,
   "id": "cd300e3d-2d0f-4a40-be1c-307c68b90ea7",
   "metadata": {},
   "outputs": [
    {
     "name": "stdout",
     "output_type": "stream",
     "text": [
      "[[1.25000015e-03 0.00000000e+00]\n",
      " [3.75000045e-03 2.06707008e-02]\n",
      " [6.25000075e-03 1.57943040e-01]\n",
      " ...\n",
      " [2.49375030e+00 3.65349913e+00]\n",
      " [2.49625030e+00 3.60790730e+00]\n",
      " [2.49875030e+00 3.71037626e+00]]\n"
     ]
    }
   ],
   "source": [
    "data_out = np.concatenate((np.array([q_r]).T, np.array([i_r]).T), axis=1)\n",
    "print(data_out)\n",
    "import csv\n",
    "with open('sector_cut_180.csv','w',newline='') as csvfile:\n",
    "    writer = csv.writer(csvfile, delimiter=',',quotechar='#')\n",
    "    for ii in range(len(q_r)):\n",
    "        writer.writerow(data_out[ii])\n",
    "        "
   ]
  },
  {
   "cell_type": "code",
   "execution_count": 22,
   "id": "b0c49725-c25f-46b2-b8c5-8daa6668407d",
   "metadata": {},
   "outputs": [],
   "source": [
    "peak100 = [.600, .650]\n",
    "peak101 = [.860, .920]\n",
    "peak001 = [1.22, 1.31]\n",
    "\n"
   ]
  },
  {
   "cell_type": "code",
   "execution_count": 18,
   "id": "5c978c0b-48cb-4002-a3fd-37086adcc660",
   "metadata": {},
   "outputs": [
    {
     "name": "stdout",
     "output_type": "stream",
     "text": [
      "(500, 1000)\n",
      "(1000,)\n",
      "(1000,)\n",
      "(500,)\n"
     ]
    },
    {
     "data": {
      "text/plain": [
       "<pyqtgraph.widgets.PlotWidget.PlotWidget at 0x7f3b6812d670>"
      ]
     },
     "execution_count": 18,
     "metadata": {},
     "output_type": "execute_result"
    }
   ],
   "source": [
    "cake_int, q_cake, chi_cake = cal.transform_polar(data, npt=(1000, 500))\n",
    "\n",
    "print(cake_int.shape)\n",
    "print(cake_int[0,:].shape)\n",
    "print(q_cake.shape)\n",
    "print(chi_cake.shape)\n",
    "\n",
    "#pg.image(cake_int.T)\n",
    "\n",
    "\n",
    "collapsed = cake_int.sum(axis=0)\n",
    "\n",
    "plt.show_plot(x=np.arange(len(collapsed)), y=collapsed)\n",
    "# plt.show_plot(x=q_cake, y=collapsed)\n"
   ]
  },
  {
   "cell_type": "code",
   "execution_count": 30,
   "id": "52457178-52bf-4360-a887-33ba6a3c53ff",
   "metadata": {},
   "outputs": [
    {
     "data": {
      "text/plain": [
       "(array([65, 66, 67, 68, 69, 70]),)"
      ]
     },
     "execution_count": 30,
     "metadata": {},
     "output_type": "execute_result"
    }
   ],
   "source": [
    "np.where(np.logical_and(q_cake > peak100[0], q_cake < peak100[1]))"
   ]
  },
  {
   "cell_type": "code",
   "execution_count": null,
   "id": "7343efa0-ddd1-419d-b86c-86ed80ebdf95",
   "metadata": {},
   "outputs": [],
   "source": [
    "x1 = 443\n",
    "x2 = 479\n",
    "y1 = [:, 440:446]\n",
    "y2 = [:, 476:482]"
   ]
  },
  {
   "cell_type": "code",
   "execution_count": null,
   "id": "d8fe385c-ed3d-4b51-b62b-39d778ff18cf",
   "metadata": {},
   "outputs": [],
   "source": [
    "x=np.arange(10)\n",
    "np.ave(x[3:8"
   ]
  }
 ],
 "metadata": {
  "kernelspec": {
   "display_name": "Python 3 (ipykernel)",
   "language": "python",
   "name": "python3"
  },
  "language_info": {
   "codemirror_mode": {
    "name": "ipython",
    "version": 3
   },
   "file_extension": ".py",
   "mimetype": "text/x-python",
   "name": "python",
   "nbconvert_exporter": "python",
   "pygments_lexer": "ipython3",
   "version": "3.9.7"
  }
 },
 "nbformat": 4,
 "nbformat_minor": 5
}
